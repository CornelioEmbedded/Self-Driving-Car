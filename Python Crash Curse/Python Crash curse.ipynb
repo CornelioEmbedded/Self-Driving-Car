{
 "cells": [
  {
   "cell_type": "code",
   "execution_count": 13,
   "id": "4c1df64a",
   "metadata": {},
   "outputs": [
    {
     "data": {
      "text/plain": [
       "25"
      ]
     },
     "execution_count": 13,
     "metadata": {},
     "output_type": "execute_result"
    }
   ],
   "source": [
    "age = 25\n",
    "age"
   ]
  },
  {
   "cell_type": "code",
   "execution_count": 14,
   "id": "b6d87112",
   "metadata": {},
   "outputs": [
    {
     "name": "stdout",
     "output_type": "stream",
     "text": [
      "25\n"
     ]
    }
   ],
   "source": [
    "print(age)"
   ]
  },
  {
   "cell_type": "code",
   "execution_count": 15,
   "id": "6f01a482",
   "metadata": {},
   "outputs": [],
   "source": [
    "cor = 20"
   ]
  },
  {
   "cell_type": "code",
   "execution_count": 16,
   "id": "ae59dba6",
   "metadata": {},
   "outputs": [
    {
     "name": "stdout",
     "output_type": "stream",
     "text": [
      "20\n"
     ]
    }
   ],
   "source": [
    "print(cor)"
   ]
  },
  {
   "cell_type": "code",
   "execution_count": 17,
   "id": "cd5b781f",
   "metadata": {},
   "outputs": [],
   "source": [
    "cor = 'cornelio'\n",
    "oks = 'oksana'"
   ]
  },
  {
   "cell_type": "code",
   "execution_count": 18,
   "id": "e44207fc",
   "metadata": {},
   "outputs": [
    {
     "name": "stdout",
     "output_type": "stream",
     "text": [
      "cornelio\n"
     ]
    }
   ],
   "source": [
    "print(cor)"
   ]
  },
  {
   "cell_type": "code",
   "execution_count": 19,
   "id": "43417864",
   "metadata": {},
   "outputs": [
    {
     "name": "stdout",
     "output_type": "stream",
     "text": [
      "oksana\n"
     ]
    }
   ],
   "source": [
    "print(oks)"
   ]
  },
  {
   "cell_type": "code",
   "execution_count": 20,
   "id": "e0243da9",
   "metadata": {},
   "outputs": [],
   "source": [
    "age, name, gender = 20, 'cornelio', 'male'"
   ]
  },
  {
   "cell_type": "code",
   "execution_count": 21,
   "id": "ad1bede9",
   "metadata": {},
   "outputs": [
    {
     "name": "stdout",
     "output_type": "stream",
     "text": [
      "20 cornelio male\n"
     ]
    }
   ],
   "source": [
    "print(age,name,gender)"
   ]
  },
  {
   "cell_type": "code",
   "execution_count": 22,
   "id": "9e084df2",
   "metadata": {},
   "outputs": [
    {
     "data": {
      "text/plain": [
       "20"
      ]
     },
     "execution_count": 22,
     "metadata": {},
     "output_type": "execute_result"
    }
   ],
   "source": [
    "age "
   ]
  },
  {
   "cell_type": "code",
   "execution_count": 23,
   "id": "5cd8c398",
   "metadata": {},
   "outputs": [
    {
     "data": {
      "text/plain": [
       "23"
      ]
     },
     "execution_count": 23,
     "metadata": {},
     "output_type": "execute_result"
    }
   ],
   "source": [
    "age +3"
   ]
  },
  {
   "cell_type": "code",
   "execution_count": 24,
   "id": "597ae433",
   "metadata": {},
   "outputs": [
    {
     "name": "stdout",
     "output_type": "stream",
     "text": [
      "24\n"
     ]
    }
   ],
   "source": [
    "age = age + 4\n",
    "print(age)"
   ]
  },
  {
   "cell_type": "code",
   "execution_count": 25,
   "id": "ef3c41bb",
   "metadata": {},
   "outputs": [
    {
     "data": {
      "text/plain": [
       "27"
      ]
     },
     "execution_count": 25,
     "metadata": {},
     "output_type": "execute_result"
    }
   ],
   "source": [
    "age +3"
   ]
  },
  {
   "cell_type": "code",
   "execution_count": 26,
   "id": "ea1c6024",
   "metadata": {},
   "outputs": [
    {
     "ename": "SyntaxError",
     "evalue": "invalid syntax (214979096.py, line 1)",
     "output_type": "error",
     "traceback": [
      "\u001b[1;36m  Input \u001b[1;32mIn [26]\u001b[1;36m\u001b[0m\n\u001b[1;33m    age =+\u001b[0m\n\u001b[1;37m          ^\u001b[0m\n\u001b[1;31mSyntaxError\u001b[0m\u001b[1;31m:\u001b[0m invalid syntax\n"
     ]
    }
   ],
   "source": [
    "age =+\n",
    "age"
   ]
  },
  {
   "cell_type": "code",
   "execution_count": 27,
   "id": "baa58e1e",
   "metadata": {},
   "outputs": [
    {
     "data": {
      "text/plain": [
       "1"
      ]
     },
     "execution_count": 27,
     "metadata": {},
     "output_type": "execute_result"
    }
   ],
   "source": [
    "age =+1\n",
    "age"
   ]
  },
  {
   "cell_type": "code",
   "execution_count": 28,
   "id": "5c5c31bf",
   "metadata": {},
   "outputs": [
    {
     "data": {
      "text/plain": [
       "1"
      ]
     },
     "execution_count": 28,
     "metadata": {},
     "output_type": "execute_result"
    }
   ],
   "source": [
    "age"
   ]
  },
  {
   "cell_type": "code",
   "execution_count": 29,
   "id": "5b59efd2",
   "metadata": {},
   "outputs": [
    {
     "data": {
      "text/plain": [
       "-3"
      ]
     },
     "execution_count": 29,
     "metadata": {},
     "output_type": "execute_result"
    }
   ],
   "source": [
    "age -+ 4\n"
   ]
  },
  {
   "cell_type": "code",
   "execution_count": 30,
   "id": "618d1840",
   "metadata": {},
   "outputs": [
    {
     "name": "stdout",
     "output_type": "stream",
     "text": [
      "2.3333333333333335\n"
     ]
    }
   ],
   "source": [
    "x = 7\n",
    "y = 3\n",
    "z = x/y\n",
    "\n",
    "print(z)"
   ]
  },
  {
   "cell_type": "code",
   "execution_count": 1,
   "id": "0777e6ca",
   "metadata": {},
   "outputs": [
    {
     "ename": "NameError",
     "evalue": "name 'x' is not defined",
     "output_type": "error",
     "traceback": [
      "\u001b[1;31m---------------------------------------------------------------------------\u001b[0m",
      "\u001b[1;31mNameError\u001b[0m                                 Traceback (most recent call last)",
      "Input \u001b[1;32mIn [1]\u001b[0m, in \u001b[0;36m<cell line: 1>\u001b[1;34m()\u001b[0m\n\u001b[1;32m----> 1\u001b[0m \u001b[38;5;28mprint\u001b[39m(\u001b[38;5;28mtype\u001b[39m(\u001b[43mx\u001b[49m))\n",
      "\u001b[1;31mNameError\u001b[0m: name 'x' is not defined"
     ]
    }
   ],
   "source": [
    "print(type(x))"
   ]
  },
  {
   "cell_type": "code",
   "execution_count": 2,
   "id": "7daf6b24",
   "metadata": {},
   "outputs": [
    {
     "name": "stdout",
     "output_type": "stream",
     "text": [
      "<class 'int'>\n"
     ]
    }
   ],
   "source": [
    "x = 10\n",
    "print(type(x))"
   ]
  },
  {
   "cell_type": "code",
   "execution_count": 3,
   "id": "95ea4896",
   "metadata": {},
   "outputs": [
    {
     "name": "stdout",
     "output_type": "stream",
     "text": [
      "<class 'float'>\n"
     ]
    }
   ],
   "source": [
    "y = 2.5\n",
    "print(type(y))"
   ]
  },
  {
   "cell_type": "code",
   "execution_count": 4,
   "id": "5ed56eea",
   "metadata": {},
   "outputs": [
    {
     "name": "stdout",
     "output_type": "stream",
     "text": [
      "3.0\n"
     ]
    }
   ],
   "source": [
    "some_float = float(3)\n",
    "print(some_float)"
   ]
  },
  {
   "cell_type": "code",
   "execution_count": 5,
   "id": "60d39bdc",
   "metadata": {},
   "outputs": [
    {
     "name": "stdout",
     "output_type": "stream",
     "text": [
      "Cornelio\n",
      "<class 'str'>\n"
     ]
    }
   ],
   "source": [
    "name = 'Cornelio'\n",
    "print(name)\n",
    "print(type(name))"
   ]
  },
  {
   "cell_type": "code",
   "execution_count": 6,
   "id": "23727005",
   "metadata": {},
   "outputs": [
    {
     "name": "stdout",
     "output_type": "stream",
     "text": [
      "Cornelio, ese soy yo xdxdxd\n"
     ]
    }
   ],
   "source": [
    "dialogue = 'Cornelio, ese soy yo xdxdxd'\n",
    "print(dialogue)"
   ]
  },
  {
   "cell_type": "code",
   "execution_count": 1,
   "id": "fba2f954",
   "metadata": {},
   "outputs": [
    {
     "name": "stdout",
     "output_type": "stream",
     "text": [
      "Hello world!!\n"
     ]
    }
   ],
   "source": [
    "print('Hello world!!')"
   ]
  },
  {
   "cell_type": "code",
   "execution_count": 2,
   "id": "89450a5c",
   "metadata": {},
   "outputs": [],
   "source": [
    "this_crash_course_is_awesome = True\n",
    "this_crash_course_is_not_awesome = False"
   ]
  },
  {
   "cell_type": "code",
   "execution_count": 8,
   "id": "2f5e7842",
   "metadata": {},
   "outputs": [
    {
     "ename": "SyntaxError",
     "evalue": "invalid syntax (3776043782.py, line 1)",
     "output_type": "error",
     "traceback": [
      "\u001b[1;36m  Input \u001b[1;32mIn [8]\u001b[1;36m\u001b[0m\n\u001b[1;33m    comparison_operation = 1 < 2 not 2 > 3\u001b[0m\n\u001b[1;37m                                     ^\u001b[0m\n\u001b[1;31mSyntaxError\u001b[0m\u001b[1;31m:\u001b[0m invalid syntax\n"
     ]
    }
   ],
   "source": [
    "comparison_operation = 1 < 2 not 2 > 3\n",
    "print(comparison_operation)"
   ]
  },
  {
   "cell_type": "code",
   "execution_count": 15,
   "id": "18e1525e",
   "metadata": {},
   "outputs": [
    {
     "name": "stdout",
     "output_type": "stream",
     "text": [
      "1\n"
     ]
    }
   ],
   "source": [
    "hola = 'Hola'\n",
    "print(hola.count('a'))"
   ]
  },
  {
   "cell_type": "code",
   "execution_count": 16,
   "id": "d0916adf",
   "metadata": {},
   "outputs": [],
   "source": [
    "names = ['Cornelio', 'Oksana', 'Leonardo']"
   ]
  },
  {
   "cell_type": "code",
   "execution_count": 22,
   "id": "c868fc03",
   "metadata": {},
   "outputs": [
    {
     "name": "stdout",
     "output_type": "stream",
     "text": [
      "Oksana\n"
     ]
    }
   ],
   "source": [
    "print(names[1])"
   ]
  },
  {
   "cell_type": "code",
   "execution_count": 23,
   "id": "a3b5dfc0",
   "metadata": {},
   "outputs": [],
   "source": [
    "random_variable = [True, False, 'Cornelio', 54]"
   ]
  },
  {
   "cell_type": "code",
   "execution_count": 27,
   "id": "d5f5102a",
   "metadata": {},
   "outputs": [
    {
     "name": "stdout",
     "output_type": "stream",
     "text": [
      "54\n"
     ]
    }
   ],
   "source": [
    "print(random_variable[3])"
   ]
  },
  {
   "cell_type": "code",
   "execution_count": 28,
   "id": "2b8123c6",
   "metadata": {},
   "outputs": [],
   "source": [
    "length = len(random_variable)"
   ]
  },
  {
   "cell_type": "code",
   "execution_count": 29,
   "id": "9dd597e4",
   "metadata": {},
   "outputs": [
    {
     "name": "stdout",
     "output_type": "stream",
     "text": [
      "4\n"
     ]
    }
   ],
   "source": [
    "print(length)"
   ]
  },
  {
   "cell_type": "code",
   "execution_count": 34,
   "id": "89ce42d6",
   "metadata": {},
   "outputs": [
    {
     "name": "stdout",
     "output_type": "stream",
     "text": [
      "[4, 'Hola', 6, 7]\n"
     ]
    }
   ],
   "source": [
    "ordered_numbers = [0,1,2,3,4,'Hola',6,7,8,9,10]\n",
    "print(ordered_numbers[4:8])"
   ]
  },
  {
   "cell_type": "code",
   "execution_count": 35,
   "id": "322a2735",
   "metadata": {},
   "outputs": [
    {
     "data": {
      "text/plain": [
       "range(0, 10)"
      ]
     },
     "execution_count": 35,
     "metadata": {},
     "output_type": "execute_result"
    }
   ],
   "source": [
    "range(0,10)"
   ]
  },
  {
   "cell_type": "code",
   "execution_count": 36,
   "id": "e60e2f8f",
   "metadata": {},
   "outputs": [
    {
     "name": "stdout",
     "output_type": "stream",
     "text": [
      "range(0, 10)\n"
     ]
    }
   ],
   "source": [
    "print(range(0,10))"
   ]
  },
  {
   "cell_type": "code",
   "execution_count": 40,
   "id": "d9f3fd50",
   "metadata": {},
   "outputs": [
    {
     "name": "stdout",
     "output_type": "stream",
     "text": [
      "[0, 1, 2, 3, 4, 5, 6, 7, 8, 9, 10, 11, 12, 13, 14, 15, 16, 17, 18, 19, 20, 21, 22, 23, 24, 25, 26, 27, 28, 29, 30, 31, 32, 33, 34, 35, 36, 37, 38, 39, 40, 41, 42, 43, 44, 45, 46, 47, 48, 49, 50, 51, 52, 53, 54, 55, 56, 57, 58, 59, 60, 61, 62, 63, 64, 65, 66, 67, 68, 69, 70, 71, 72, 73, 74, 75, 76, 77, 78, 79, 80, 81, 82, 83, 84, 85, 86, 87, 88, 89, 90, 91, 92, 93, 94, 95, 96, 97, 98, 99, 100]\n"
     ]
    }
   ],
   "source": [
    "print(list(range(0,101)))"
   ]
  },
  {
   "cell_type": "code",
   "execution_count": 41,
   "id": "99e2ff30",
   "metadata": {},
   "outputs": [
    {
     "name": "stdout",
     "output_type": "stream",
     "text": [
      "m\n"
     ]
    }
   ],
   "source": [
    "title = 'game of thrones'\n",
    "print(title[2])"
   ]
  },
  {
   "cell_type": "code",
   "execution_count": 46,
   "id": "de517491",
   "metadata": {},
   "outputs": [
    {
     "name": "stdout",
     "output_type": "stream",
     "text": [
      "False\n"
     ]
    }
   ],
   "source": [
    "months = ['January', 'February', 'March']\n",
    "print('February' not in months)"
   ]
  },
  {
   "cell_type": "code",
   "execution_count": 47,
   "id": "21656cee",
   "metadata": {},
   "outputs": [
    {
     "name": "stdout",
     "output_type": "stream",
     "text": [
      "['bananas', 'apples', 'tomato']\n"
     ]
    }
   ],
   "source": [
    "grocery = ['bananas', 'apples', 'brocoli']\n",
    "grocery[2] = 'tomato'\n",
    "print(grocery)"
   ]
  },
  {
   "cell_type": "code",
   "execution_count": 48,
   "id": "5d8ff863",
   "metadata": {},
   "outputs": [
    {
     "ename": "TypeError",
     "evalue": "'str' object does not support item assignment",
     "output_type": "error",
     "traceback": [
      "\u001b[1;31m---------------------------------------------------------------------------\u001b[0m",
      "\u001b[1;31mTypeError\u001b[0m                                 Traceback (most recent call last)",
      "Input \u001b[1;32mIn [48]\u001b[0m, in \u001b[0;36m<cell line: 2>\u001b[1;34m()\u001b[0m\n\u001b[0;32m      1\u001b[0m misspelled \u001b[38;5;241m=\u001b[39m \u001b[38;5;124m'\u001b[39m\u001b[38;5;124mcucomber\u001b[39m\u001b[38;5;124m'\u001b[39m\n\u001b[1;32m----> 2\u001b[0m misspelled[\u001b[38;5;241m3\u001b[39m] \u001b[38;5;241m=\u001b[39m \u001b[38;5;124m'\u001b[39m\u001b[38;5;124mu\u001b[39m\u001b[38;5;124m'\u001b[39m\n\u001b[0;32m      3\u001b[0m \u001b[38;5;28mprint\u001b[39m(misspelled)\n",
      "\u001b[1;31mTypeError\u001b[0m: 'str' object does not support item assignment"
     ]
    }
   ],
   "source": [
    "misspelled = 'cucomber'\n",
    "misspelled[3] = 'u'\n",
    "print(misspelled)"
   ]
  },
  {
   "cell_type": "code",
   "execution_count": 49,
   "id": "ab91d70d",
   "metadata": {},
   "outputs": [
    {
     "name": "stdout",
     "output_type": "stream",
     "text": [
      "John\n",
      "Cornelio\n"
     ]
    }
   ],
   "source": [
    "name = 'Cornelio'\n",
    "name2 = name\n",
    "name = 'John'\n",
    "print(name)\n",
    "print(name2)"
   ]
  },
  {
   "cell_type": "code",
   "execution_count": 50,
   "id": "82fb0400",
   "metadata": {},
   "outputs": [
    {
     "name": "stdout",
     "output_type": "stream",
     "text": [
      "Adios\n"
     ]
    }
   ],
   "source": [
    "books = ['Hola', 'Soy', 'Cornelio']\n",
    "books2 = books\n",
    "books[0] = 'Adios'\n",
    "print(books[0])"
   ]
  },
  {
   "cell_type": "code",
   "execution_count": 58,
   "id": "8bb7c8ce",
   "metadata": {},
   "outputs": [
    {
     "name": "stdout",
     "output_type": "stream",
     "text": [
      "5\n"
     ]
    }
   ],
   "source": [
    "numbers = [-4,51,6,7,8]\n",
    "print(len(numbers))"
   ]
  },
  {
   "cell_type": "code",
   "execution_count": 60,
   "id": "68d62b02",
   "metadata": {},
   "outputs": [
    {
     "data": {
      "text/plain": [
       "[-4, 6, 7, 8, 51]"
      ]
     },
     "execution_count": 60,
     "metadata": {},
     "output_type": "execute_result"
    }
   ],
   "source": [
    "sorted(numbers)"
   ]
  },
  {
   "cell_type": "code",
   "execution_count": 61,
   "id": "017a26f1",
   "metadata": {},
   "outputs": [
    {
     "data": {
      "text/plain": [
       "'january-february-march'"
      ]
     },
     "execution_count": 61,
     "metadata": {},
     "output_type": "execute_result"
    }
   ],
   "source": [
    "'-'.join(['january', 'february', 'march'])"
   ]
  },
  {
   "cell_type": "code",
   "execution_count": 63,
   "id": "77d6b898",
   "metadata": {},
   "outputs": [
    {
     "name": "stdout",
     "output_type": "stream",
     "text": [
      "This person is tall, slim, and blonde\n"
     ]
    }
   ],
   "source": [
    "print('This person is {}, {}, and {}'.format('tall', 'slim', 'blonde'))"
   ]
  },
  {
   "cell_type": "code",
   "execution_count": 64,
   "id": "aaf9ddc4",
   "metadata": {},
   "outputs": [
    {
     "name": "stdout",
     "output_type": "stream",
     "text": [
      "['january', 'february', 'march', 'april']\n"
     ]
    }
   ],
   "source": [
    "months = ['january', 'february', 'march']\n",
    "months.append('april')\n",
    "print(months)"
   ]
  },
  {
   "cell_type": "code",
   "execution_count": 67,
   "id": "1767a415",
   "metadata": {},
   "outputs": [
    {
     "name": "stdout",
     "output_type": "stream",
     "text": [
      "tall slim\n"
     ]
    }
   ],
   "source": [
    "traits = 'tall', 'slim', 'blond'\n",
    "height = traits[0]\n",
    "build = traits[1]\n",
    "print(height, build)"
   ]
  },
  {
   "cell_type": "code",
   "execution_count": 1,
   "id": "69401ba0",
   "metadata": {},
   "outputs": [
    {
     "name": "stdout",
     "output_type": "stream",
     "text": [
      "{1, 2, 3}\n"
     ]
    }
   ],
   "source": [
    "duplicate = [1,1,2,2,3,3]\n",
    "unique = set(duplicate)\n",
    "print(unique)"
   ]
  },
  {
   "cell_type": "code",
   "execution_count": 2,
   "id": "b9bd4f32",
   "metadata": {},
   "outputs": [
    {
     "name": "stdout",
     "output_type": "stream",
     "text": [
      "{1, 2, 3, 4}\n"
     ]
    }
   ],
   "source": [
    "unique.add(4)\n",
    "print(unique)"
   ]
  },
  {
   "cell_type": "code",
   "execution_count": 3,
   "id": "cae32340",
   "metadata": {},
   "outputs": [
    {
     "name": "stdout",
     "output_type": "stream",
     "text": [
      "True\n"
     ]
    }
   ],
   "source": [
    "print(2 in unique)"
   ]
  },
  {
   "cell_type": "code",
   "execution_count": 5,
   "id": "415b3203",
   "metadata": {},
   "outputs": [
    {
     "name": "stdout",
     "output_type": "stream",
     "text": [
      "1.29\n"
     ]
    }
   ],
   "source": [
    "inventory = {'bananas':1.29, 'papayas':2.99}\n",
    "print(inventory['bananas'])"
   ]
  },
  {
   "cell_type": "code",
   "execution_count": 6,
   "id": "41283463",
   "metadata": {},
   "outputs": [
    {
     "name": "stdout",
     "output_type": "stream",
     "text": [
      "2.99\n"
     ]
    }
   ],
   "source": [
    "inventory['bananas'] = 2.99\n",
    "print(inventory['bananas'])"
   ]
  },
  {
   "cell_type": "code",
   "execution_count": 8,
   "id": "d1e0b3a3",
   "metadata": {},
   "outputs": [
    {
     "name": "stdout",
     "output_type": "stream",
     "text": [
      "None\n"
     ]
    }
   ],
   "source": [
    "price = inventory.get('straw')\n",
    "print(price)"
   ]
  },
  {
   "cell_type": "code",
   "execution_count": 10,
   "id": "694e4d72",
   "metadata": {},
   "outputs": [
    {
     "name": "stdout",
     "output_type": "stream",
     "text": [
      "False\n"
     ]
    }
   ],
   "source": [
    "print('celery' in inventory)"
   ]
  },
  {
   "cell_type": "code",
   "execution_count": 14,
   "id": "a47515b2",
   "metadata": {},
   "outputs": [
    {
     "name": "stdout",
     "output_type": "stream",
     "text": [
      "United Kingdom\n"
     ]
    }
   ],
   "source": [
    "grocery = {'bananas': {'price':2.99 , 'country of origin' : 'Guatemala'},\n",
    "            'apples':{'price':2.99 , 'country of origin' : 'United Kingdom'}, \n",
    "            'papayas':{'price':2.99 , 'country of origin' : 'Costa Rica'}}\n",
    "print(grocery['apples']['country of origin'])"
   ]
  },
  {
   "cell_type": "code",
   "execution_count": 1,
   "id": "c04553be",
   "metadata": {},
   "outputs": [
    {
     "name": "stdout",
     "output_type": "stream",
     "text": [
      "January\n",
      "February\n",
      "March\n"
     ]
    }
   ],
   "source": [
    "months = ['January', 'February', 'March']\n",
    "\n",
    "for month in months:\n",
    "    print(month)"
   ]
  },
  {
   "cell_type": "code",
   "execution_count": 2,
   "id": "798e4801",
   "metadata": {},
   "outputs": [
    {
     "name": "stdout",
     "output_type": "stream",
     "text": [
      "0\n",
      "1\n",
      "2\n",
      "3\n",
      "4\n",
      "5\n",
      "6\n",
      "7\n",
      "8\n",
      "9\n",
      "10\n",
      "11\n",
      "12\n",
      "13\n",
      "14\n",
      "15\n",
      "16\n",
      "17\n",
      "18\n",
      "19\n",
      "20\n",
      "21\n",
      "22\n",
      "23\n",
      "24\n",
      "25\n",
      "26\n",
      "27\n",
      "28\n",
      "29\n",
      "30\n",
      "31\n",
      "32\n",
      "33\n",
      "34\n",
      "35\n",
      "36\n",
      "37\n",
      "38\n",
      "39\n",
      "40\n",
      "41\n",
      "42\n",
      "43\n",
      "44\n",
      "45\n",
      "46\n",
      "47\n",
      "48\n",
      "49\n",
      "50\n",
      "51\n",
      "52\n",
      "53\n",
      "54\n",
      "55\n",
      "56\n",
      "57\n",
      "58\n",
      "59\n",
      "60\n",
      "61\n",
      "62\n",
      "63\n",
      "64\n",
      "65\n",
      "66\n",
      "67\n",
      "68\n",
      "69\n",
      "70\n",
      "71\n",
      "72\n",
      "73\n",
      "74\n",
      "75\n",
      "76\n",
      "77\n",
      "78\n",
      "79\n",
      "80\n",
      "81\n",
      "82\n",
      "83\n",
      "84\n",
      "85\n",
      "86\n",
      "87\n",
      "88\n",
      "89\n",
      "90\n",
      "91\n",
      "92\n",
      "93\n",
      "94\n",
      "95\n",
      "96\n",
      "97\n",
      "98\n",
      "99\n"
     ]
    }
   ],
   "source": [
    "for number in range(0,100):\n",
    "    print(number)"
   ]
  },
  {
   "cell_type": "code",
   "execution_count": 4,
   "id": "d64a3712",
   "metadata": {},
   "outputs": [
    {
     "name": "stdout",
     "output_type": "stream",
     "text": [
      "0\n",
      "1\n",
      "2\n"
     ]
    }
   ],
   "source": [
    "name = ['hillary', 'diana', 'brian']\n",
    "\n",
    "for index in range(len(name)):\n",
    "    print(index)"
   ]
  },
  {
   "cell_type": "code",
   "execution_count": 5,
   "id": "f349d430",
   "metadata": {},
   "outputs": [
    {
     "name": "stdout",
     "output_type": "stream",
     "text": [
      "Titanic 1997\n",
      "Finding Nemo 2003\n"
     ]
    }
   ],
   "source": [
    "movies = {'Titanic': 1997,\n",
    "          'Finding Nemo' : 2003}\n",
    "\n",
    "for (key, value) in movies.items():\n",
    "    print(key,value)"
   ]
  },
  {
   "cell_type": "code",
   "execution_count": 9,
   "id": "66e28167",
   "metadata": {},
   "outputs": [
    {
     "name": "stdout",
     "output_type": "stream",
     "text": [
      "0:hola\n",
      "1:hola\n",
      "2:hola\n",
      "3:hola\n",
      "4:hola\n",
      "5:hola\n",
      "6:hola\n",
      "7:hola\n",
      "8:hola\n",
      "9:hola\n",
      "10:hola\n",
      "11:hola\n",
      "12:hola\n",
      "13:hola\n",
      "14:hola\n",
      "15:hola\n",
      "16:hola\n",
      "17:hola\n",
      "18:hola\n",
      "19:hola\n",
      "20:hola\n"
     ]
    }
   ],
   "source": [
    "num = 0\n",
    "\n",
    "while num != 100:\n",
    "    print(f'{num}:hola')\n",
    "    num += 1\n",
    "    if num == 21:\n",
    "        break"
   ]
  },
  {
   "cell_type": "code",
   "execution_count": 10,
   "id": "caf7f6fa",
   "metadata": {},
   "outputs": [
    {
     "name": "stdout",
     "output_type": "stream",
     "text": [
      "[0, 1, 2, 3, 4, 5, 6, 7, 8, 9]\n"
     ]
    }
   ],
   "source": [
    "numbers = list(range(0,10))\n",
    "print(numbers)"
   ]
  },
  {
   "cell_type": "code",
   "execution_count": 11,
   "id": "cc1e615b",
   "metadata": {},
   "outputs": [],
   "source": [
    "def rectangule_area(lenght, widht):\n",
    "    area = lenght * widht\n",
    "    return area"
   ]
  },
  {
   "cell_type": "code",
   "execution_count": 15,
   "id": "b7aab9f5",
   "metadata": {},
   "outputs": [
    {
     "name": "stdout",
     "output_type": "stream",
     "text": [
      "6\n"
     ]
    }
   ],
   "source": [
    "print(rectangule_area(2,3))"
   ]
  },
  {
   "cell_type": "code",
   "execution_count": 16,
   "id": "55367a6c",
   "metadata": {},
   "outputs": [
    {
     "name": "stdout",
     "output_type": "stream",
     "text": [
      "39800\n"
     ]
    }
   ],
   "source": [
    "print(rectangule_area(100,398))"
   ]
  }
 ],
 "metadata": {
  "kernelspec": {
   "display_name": "Python 3.10.6 64-bit (windows store)",
   "language": "python",
   "name": "python3"
  },
  "language_info": {
   "codemirror_mode": {
    "name": "ipython",
    "version": 3
   },
   "file_extension": ".py",
   "mimetype": "text/x-python",
   "name": "python",
   "nbconvert_exporter": "python",
   "pygments_lexer": "ipython3",
   "version": "3.10.6"
  },
  "vscode": {
   "interpreter": {
    "hash": "5c1f741a4f83aa020b4b2a4d7353a073a4e5e4a855a3258a20da40294ddbf005"
   }
  }
 },
 "nbformat": 4,
 "nbformat_minor": 5
}
