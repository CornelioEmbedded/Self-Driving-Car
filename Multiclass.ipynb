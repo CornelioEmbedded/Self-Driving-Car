{
  "nbformat": 4,
  "nbformat_minor": 0,
  "metadata": {
    "colab": {
      "provenance": [],
      "authorship_tag": "ABX9TyPvhTlmhLXEEBEpLdrk81e1",
      "include_colab_link": true
    },
    "kernelspec": {
      "name": "python3",
      "display_name": "Python 3"
    },
    "language_info": {
      "name": "python"
    }
  },
  "cells": [
    {
      "cell_type": "markdown",
      "metadata": {
        "id": "view-in-github",
        "colab_type": "text"
      },
      "source": [
        "<a href=\"https://colab.research.google.com/github/CornelioEmbedded/Self-Driving-Car/blob/main/Multiclass.ipynb\" target=\"_parent\"><img src=\"https://colab.research.google.com/assets/colab-badge.svg\" alt=\"Open In Colab\"/></a>"
      ]
    },
    {
      "cell_type": "code",
      "execution_count": 83,
      "metadata": {
        "id": "rficO2fRGEQh"
      },
      "outputs": [],
      "source": [
        "import numpy as np\n",
        "import matplotlib.pyplot as plt\n",
        "from sklearn import datasets\n",
        "import keras\n",
        "from keras.models import Sequential\n",
        "from keras.layers import Dense\n",
        "from keras.optimizers import Adam\n",
        "from keras.utils.np_utils import to_categorical"
      ]
    },
    {
      "cell_type": "code",
      "source": [
        "n_pts = 500\n",
        "centers = [[-1,1],[-1,-1],[1,-1],[1,1], [0,0]]\n",
        "X, Y = datasets.make_blobs(n_samples = n_pts, random_state = 123, centers = centers, cluster_std = 0.4)\n"
      ],
      "metadata": {
        "id": "-st4pyZIGimG"
      },
      "execution_count": 84,
      "outputs": []
    },
    {
      "cell_type": "code",
      "source": [
        "plt.scatter(X[Y == 0, 0], X[Y == 0, 1])\n",
        "plt.scatter(X[Y == 1, 0], X[Y == 1, 1])\n",
        "plt.scatter(X[Y == 2, 0], X[Y == 2, 1])\n",
        "plt.scatter(X[Y == 3, 0], X[Y == 3, 1])\n",
        "plt.scatter(X[Y == 4, 0], X[Y == 4, 1])"
      ],
      "metadata": {
        "colab": {
          "base_uri": "https://localhost:8080/",
          "height": 282
        },
        "id": "nwtR-7iiHsRb",
        "outputId": "a3e297f3-f977-45c2-b9d5-2c7b8b3875e2"
      },
      "execution_count": 85,
      "outputs": [
        {
          "output_type": "execute_result",
          "data": {
            "text/plain": [
              "<matplotlib.collections.PathCollection at 0x7fa478b31c50>"
            ]
          },
          "metadata": {},
          "execution_count": 85
        },
        {
          "output_type": "display_data",
          "data": {
            "text/plain": [
              "<Figure size 432x288 with 1 Axes>"
            ],
            "image/png": "[encoded data removed]"
          },
          "metadata": {
            "needs_background": "light"
          }
        }
      ]
    },
    {
      "cell_type": "code",
      "source": [
        "y_cat = to_categorical(Y, 5)\n",
        "print(y_cat)"
      ],
      "metadata": {
        "colab": {
          "base_uri": "https://localhost:8080/"
        },
        "id": "uYN1Q2cJIS1o",
        "outputId": "2c279cfb-53d5-407e-a7ae-f02fab9f38a6"
      },
      "execution_count": 86,
      "outputs": [
        {
          "output_type": "stream",
          "name": "stdout",
          "text": [
            "[[0. 0. 0. 1. 0.]\n",
            " [0. 0. 0. 1. 0.]\n",
            " [0. 0. 0. 0. 1.]\n",
            " ...\n",
            " [0. 1. 0. 0. 0.]\n",
            " [0. 0. 1. 0. 0.]\n",
            " [0. 1. 0. 0. 0.]]\n"
          ]
        }
      ]
    },
    {
      "cell_type": "code",
      "source": [
        "model = Sequential()\n",
        "model.add(Dense(units = 5, input_shape = (2,), activation = 'softmax'))\n",
        "model.compile(Adam(0.1), loss = 'categorical_crossentropy', metrics = ['accuracy'])"
      ],
      "metadata": {
        "id": "BFB_gKZZJMe_"
      },
      "execution_count": 87,
      "outputs": []
    },
    {
      "cell_type": "code",
      "source": [
        "model.fit(x = X, y = y_cat, verbose = 1, batch_size = 50, epochs = 100)"
      ],
      "metadata": {
        "colab": {
          "base_uri": "https://localhost:8080/"
        },
        "id": "p5pcxb9WJ123",
        "outputId": "b551f5c8-710b-4afc-bfbe-fbaa10a3f193"
      },
      "execution_count": 88,
      "outputs": [
        {
          "output_type": "stream",
          "name": "stdout",
          "text": [
            "Epoch 1/100\n",
            "10/10 [==============================] - 0s 2ms/step - loss: 1.2793 - accuracy: 0.4780\n",
            "Epoch 2/100\n",
            "10/10 [==============================] - 0s 2ms/step - loss: 0.6212 - accuracy: 0.8440\n",
            "Epoch 3/100\n",
            "10/10 [==============================] - 0s 2ms/step - loss: 0.4256 - accuracy: 0.9140\n",
            "Epoch 4/100\n",
            "10/10 [==============================] - 0s 2ms/step - loss: 0.3338 - accuracy: 0.9300\n",
            "Epoch 5/100\n",
            "10/10 [==============================] - 0s 2ms/step - loss: 0.2910 - accuracy: 0.9380\n",
            "Epoch 6/100\n",
            "10/10 [==============================] - 0s 3ms/step - loss: 0.2655 - accuracy: 0.9420\n",
            "Epoch 7/100\n",
            "10/10 [==============================] - 0s 2ms/step - loss: 0.2461 - accuracy: 0.9460\n",
            "Epoch 8/100\n",
            "10/10 [==============================] - 0s 2ms/step - loss: 0.2331 - accuracy: 0.9420\n",
            "Epoch 9/100\n",
            "10/10 [==============================] - 0s 2ms/step - loss: 0.2233 - accuracy: 0.9400\n",
            "Epoch 10/100\n",
            "10/10 [==============================] - 0s 2ms/step - loss: 0.2150 - accuracy: 0.9460\n",
            "Epoch 11/100\n",
            "10/10 [==============================] - 0s 2ms/step - loss: 0.2085 - accuracy: 0.9440\n",
            "Epoch 12/100\n",
            "10/10 [==============================] - 0s 2ms/step - loss: 0.2020 - accuracy: 0.9500\n",
            "Epoch 13/100\n",
            "10/10 [==============================] - 0s 2ms/step - loss: 0.1976 - accuracy: 0.9480\n",
            "Epoch 14/100\n",
            "10/10 [==============================] - 0s 2ms/step - loss: 0.1930 - accuracy: 0.9460\n",
            "Epoch 15/100\n",
            "10/10 [==============================] - 0s 2ms/step - loss: 0.1898 - accuracy: 0.9480\n",
            "Epoch 16/100\n",
            "10/10 [==============================] - 0s 3ms/step - loss: 0.1860 - accuracy: 0.9520\n",
            "Epoch 17/100\n",
            "10/10 [==============================] - 0s 2ms/step - loss: 0.1825 - accuracy: 0.9500\n",
            "Epoch 18/100\n",
            "10/10 [==============================] - 0s 2ms/step - loss: 0.1795 - accuracy: 0.9500\n",
            "Epoch 19/100\n",
            "10/10 [==============================] - 0s 2ms/step - loss: 0.1771 - accuracy: 0.9480\n",
            "Epoch 20/100\n",
            "10/10 [==============================] - 0s 2ms/step - loss: 0.1759 - accuracy: 0.9460\n",
            "Epoch 21/100\n",
            "10/10 [==============================] - 0s 3ms/step - loss: 0.1739 - accuracy: 0.9460\n",
            "Epoch 22/100\n",
            "10/10 [==============================] - 0s 2ms/step - loss: 0.1724 - accuracy: 0.9520\n",
            "Epoch 23/100\n",
            "10/10 [==============================] - 0s 2ms/step - loss: 0.1704 - accuracy: 0.9520\n",
            "Epoch 24/100\n",
            "10/10 [==============================] - 0s 2ms/step - loss: 0.1683 - accuracy: 0.9500\n",
            "Epoch 25/100\n",
            "10/10 [==============================] - 0s 2ms/step - loss: 0.1677 - accuracy: 0.9500\n",
            "Epoch 26/100\n",
            "10/10 [==============================] - 0s 2ms/step - loss: 0.1670 - accuracy: 0.9520\n",
            "Epoch 27/100\n",
            "10/10 [==============================] - 0s 2ms/step - loss: 0.1669 - accuracy: 0.9440\n",
            "Epoch 28/100\n",
            "10/10 [==============================] - 0s 2ms/step - loss: 0.1649 - accuracy: 0.9500\n",
            "Epoch 29/100\n",
            "10/10 [==============================] - 0s 2ms/step - loss: 0.1641 - accuracy: 0.9500\n",
            "Epoch 30/100\n",
            "10/10 [==============================] - 0s 3ms/step - loss: 0.1638 - accuracy: 0.9520\n",
            "Epoch 31/100\n",
            "10/10 [==============================] - 0s 2ms/step - loss: 0.1632 - accuracy: 0.9480\n",
            "Epoch 32/100\n",
            "10/10 [==============================] - 0s 2ms/step - loss: 0.1619 - accuracy: 0.9480\n",
            "Epoch 33/100\n",
            "10/10 [==============================] - 0s 2ms/step - loss: 0.1616 - accuracy: 0.9500\n",
            "Epoch 34/100\n",
            "10/10 [==============================] - 0s 2ms/step - loss: 0.1603 - accuracy: 0.9520\n",
            "Epoch 35/100\n",
            "10/10 [==============================] - 0s 2ms/step - loss: 0.1616 - accuracy: 0.9540\n",
            "Epoch 36/100\n",
            "10/10 [==============================] - 0s 2ms/step - loss: 0.1594 - accuracy: 0.9540\n",
            "Epoch 37/100\n",
            "10/10 [==============================] - 0s 2ms/step - loss: 0.1597 - accuracy: 0.9520\n",
            "Epoch 38/100\n",
            "10/10 [==============================] - 0s 2ms/step - loss: 0.1589 - accuracy: 0.9500\n",
            "Epoch 39/100\n",
            "10/10 [==============================] - 0s 2ms/step - loss: 0.1581 - accuracy: 0.9500\n",
            "Epoch 40/100\n",
            "10/10 [==============================] - 0s 3ms/step - loss: 0.1575 - accuracy: 0.9520\n",
            "Epoch 41/100\n",
            "10/10 [==============================] - 0s 2ms/step - loss: 0.1585 - accuracy: 0.9520\n",
            "Epoch 42/100\n",
            "10/10 [==============================] - 0s 2ms/step - loss: 0.1567 - accuracy: 0.9500\n",
            "Epoch 43/100\n",
            "10/10 [==============================] - 0s 2ms/step - loss: 0.1574 - accuracy: 0.9540\n",
            "Epoch 44/100\n",
            "10/10 [==============================] - 0s 2ms/step - loss: 0.1563 - accuracy: 0.9480\n",
            "Epoch 45/100\n",
            "10/10 [==============================] - 0s 5ms/step - loss: 0.1576 - accuracy: 0.9460\n",
            "Epoch 46/100\n",
            "10/10 [==============================] - 0s 3ms/step - loss: 0.1553 - accuracy: 0.9500\n",
            "Epoch 47/100\n",
            "10/10 [==============================] - 0s 4ms/step - loss: 0.1547 - accuracy: 0.9500\n",
            "Epoch 48/100\n",
            "10/10 [==============================] - 0s 6ms/step - loss: 0.1544 - accuracy: 0.9480\n",
            "Epoch 49/100\n",
            "10/10 [==============================] - 0s 4ms/step - loss: 0.1547 - accuracy: 0.9500\n",
            "Epoch 50/100\n",
            "10/10 [==============================] - 0s 3ms/step - loss: 0.1550 - accuracy: 0.9480\n",
            "Epoch 51/100\n",
            "10/10 [==============================] - 0s 3ms/step - loss: 0.1544 - accuracy: 0.9520\n",
            "Epoch 52/100\n",
            "10/10 [==============================] - 0s 4ms/step - loss: 0.1549 - accuracy: 0.9480\n",
            "Epoch 53/100\n",
            "10/10 [==============================] - 0s 3ms/step - loss: 0.1539 - accuracy: 0.9500\n",
            "Epoch 54/100\n",
            "10/10 [==============================] - 0s 4ms/step - loss: 0.1550 - accuracy: 0.9480\n",
            "Epoch 55/100\n",
            "10/10 [==============================] - 0s 8ms/step - loss: 0.1555 - accuracy: 0.9440\n",
            "Epoch 56/100\n",
            "10/10 [==============================] - 0s 3ms/step - loss: 0.1531 - accuracy: 0.9520\n",
            "Epoch 57/100\n",
            "10/10 [==============================] - 0s 3ms/step - loss: 0.1546 - accuracy: 0.9500\n",
            "Epoch 58/100\n",
            "10/10 [==============================] - 0s 7ms/step - loss: 0.1538 - accuracy: 0.9460\n",
            "Epoch 59/100\n",
            "10/10 [==============================] - 0s 3ms/step - loss: 0.1526 - accuracy: 0.9480\n",
            "Epoch 60/100\n",
            "10/10 [==============================] - 0s 4ms/step - loss: 0.1537 - accuracy: 0.9460\n",
            "Epoch 61/100\n",
            "10/10 [==============================] - 0s 5ms/step - loss: 0.1549 - accuracy: 0.9460\n",
            "Epoch 62/100\n",
            "10/10 [==============================] - 0s 8ms/step - loss: 0.1530 - accuracy: 0.9480\n",
            "Epoch 63/100\n",
            "10/10 [==============================] - 0s 3ms/step - loss: 0.1532 - accuracy: 0.9500\n",
            "Epoch 64/100\n",
            "10/10 [==============================] - 0s 5ms/step - loss: 0.1523 - accuracy: 0.9500\n",
            "Epoch 65/100\n",
            "10/10 [==============================] - 0s 5ms/step - loss: 0.1527 - accuracy: 0.9480\n",
            "Epoch 66/100\n",
            "10/10 [==============================] - 0s 7ms/step - loss: 0.1520 - accuracy: 0.9520\n",
            "Epoch 67/100\n",
            "10/10 [==============================] - 0s 8ms/step - loss: 0.1522 - accuracy: 0.9520\n",
            "Epoch 68/100\n",
            "10/10 [==============================] - 0s 3ms/step - loss: 0.1523 - accuracy: 0.9500\n",
            "Epoch 69/100\n",
            "10/10 [==============================] - 0s 4ms/step - loss: 0.1512 - accuracy: 0.9500\n",
            "Epoch 70/100\n",
            "10/10 [==============================] - 0s 4ms/step - loss: 0.1524 - accuracy: 0.9480\n",
            "Epoch 71/100\n",
            "10/10 [==============================] - 0s 3ms/step - loss: 0.1521 - accuracy: 0.9520\n",
            "Epoch 72/100\n",
            "10/10 [==============================] - 0s 3ms/step - loss: 0.1521 - accuracy: 0.9520\n",
            "Epoch 73/100\n",
            "10/10 [==============================] - 0s 14ms/step - loss: 0.1525 - accuracy: 0.9480\n",
            "Epoch 74/100\n",
            "10/10 [==============================] - 0s 8ms/step - loss: 0.1527 - accuracy: 0.9460\n",
            "Epoch 75/100\n",
            "10/10 [==============================] - 0s 4ms/step - loss: 0.1526 - accuracy: 0.9500\n",
            "Epoch 76/100\n",
            "10/10 [==============================] - 0s 2ms/step - loss: 0.1518 - accuracy: 0.9520\n",
            "Epoch 77/100\n",
            "10/10 [==============================] - 0s 2ms/step - loss: 0.1560 - accuracy: 0.9460\n",
            "Epoch 78/100\n",
            "10/10 [==============================] - 0s 2ms/step - loss: 0.1567 - accuracy: 0.9420\n",
            "Epoch 79/100\n",
            "10/10 [==============================] - 0s 2ms/step - loss: 0.1509 - accuracy: 0.9460\n",
            "Epoch 80/100\n",
            "10/10 [==============================] - 0s 3ms/step - loss: 0.1551 - accuracy: 0.9400\n",
            "Epoch 81/100\n",
            "10/10 [==============================] - 0s 2ms/step - loss: 0.1522 - accuracy: 0.9500\n",
            "Epoch 82/100\n",
            "10/10 [==============================] - 0s 3ms/step - loss: 0.1530 - accuracy: 0.9500\n",
            "Epoch 83/100\n",
            "10/10 [==============================] - 0s 2ms/step - loss: 0.1524 - accuracy: 0.9480\n",
            "Epoch 84/100\n",
            "10/10 [==============================] - 0s 2ms/step - loss: 0.1527 - accuracy: 0.9460\n",
            "Epoch 85/100\n",
            "10/10 [==============================] - 0s 2ms/step - loss: 0.1522 - accuracy: 0.9500\n",
            "Epoch 86/100\n",
            "10/10 [==============================] - 0s 2ms/step - loss: 0.1507 - accuracy: 0.9520\n",
            "Epoch 87/100\n",
            "10/10 [==============================] - 0s 2ms/step - loss: 0.1507 - accuracy: 0.9520\n",
            "Epoch 88/100\n",
            "10/10 [==============================] - 0s 3ms/step - loss: 0.1518 - accuracy: 0.9500\n",
            "Epoch 89/100\n",
            "10/10 [==============================] - 0s 2ms/step - loss: 0.1521 - accuracy: 0.9500\n",
            "Epoch 90/100\n",
            "10/10 [==============================] - 0s 3ms/step - loss: 0.1532 - accuracy: 0.9480\n",
            "Epoch 91/100\n",
            "10/10 [==============================] - 0s 2ms/step - loss: 0.1512 - accuracy: 0.9500\n",
            "Epoch 92/100\n",
            "10/10 [==============================] - 0s 2ms/step - loss: 0.1520 - accuracy: 0.9480\n",
            "Epoch 93/100\n",
            "10/10 [==============================] - 0s 2ms/step - loss: 0.1515 - accuracy: 0.9500\n",
            "Epoch 94/100\n",
            "10/10 [==============================] - 0s 2ms/step - loss: 0.1518 - accuracy: 0.9460\n",
            "Epoch 95/100\n",
            "10/10 [==============================] - 0s 2ms/step - loss: 0.1513 - accuracy: 0.9480\n",
            "Epoch 96/100\n",
            "10/10 [==============================] - 0s 2ms/step - loss: 0.1520 - accuracy: 0.9520\n",
            "Epoch 97/100\n",
            "10/10 [==============================] - 0s 2ms/step - loss: 0.1521 - accuracy: 0.9460\n",
            "Epoch 98/100\n",
            "10/10 [==============================] - 0s 2ms/step - loss: 0.1545 - accuracy: 0.9500\n",
            "Epoch 99/100\n",
            "10/10 [==============================] - 0s 2ms/step - loss: 0.1516 - accuracy: 0.9520\n",
            "Epoch 100/100\n",
            "10/10 [==============================] - 0s 2ms/step - loss: 0.1522 - accuracy: 0.9500\n"
          ]
        },
        {
          "output_type": "execute_result",
          "data": {
            "text/plain": [
              "<keras.callbacks.History at 0x7fa478be7810>"
            ]
          },
          "metadata": {},
          "execution_count": 88
        }
      ]
    },
    {
      "cell_type": "code",
      "source": [
        "def plot_decision_boundary(X, y_cat, model):\n",
        "  x_span = np.linspace(min(X[:, 0]) - 1, max(X[:, 0]) + 1, 50)\n",
        "  y_span = np.linspace(min(X[:, 1]) - 1, max(X[:, 1]) + 1, 50)\n",
        "  xx, yy = np.meshgrid(x_span, y_span)\n",
        "  xx_, yy_ = xx.ravel(), yy.ravel()\n",
        "  grid = np.c_[xx_, yy_]\n",
        "  pred_func = np.argmax(model.predict(grid), axis=-1)\n",
        "  z = pred_func.reshape(xx.shape)\n",
        "  plt.contourf(xx, yy, z)"
      ],
      "metadata": {
        "id": "7plshG3wKdl_"
      },
      "execution_count": 89,
      "outputs": []
    },
    {
      "cell_type": "code",
      "source": [
        "plot_decision_boundary(X, y_cat, model)\n",
        "plt.scatter(X[Y == 0, 0], X[Y == 0, 1])\n",
        "plt.scatter(X[Y == 1, 0], X[Y == 1, 1])\n",
        "plt.scatter(X[Y == 2, 0], X[Y == 2, 1])\n",
        "plt.scatter(X[Y == 3, 0], X[Y == 3, 1])\n",
        "plt.scatter(X[Y == 4, 0], X[Y == 4, 1])"
      ],
      "metadata": {
        "colab": {
          "base_uri": "https://localhost:8080/",
          "height": 300
        },
        "id": "jyS-Tc1_Kty4",
        "outputId": "adcbfb51-f153-4879-f621-7582599319fc"
      },
      "execution_count": 90,
      "outputs": [
        {
          "output_type": "stream",
          "name": "stdout",
          "text": [
            "79/79 [==============================] - 0s 1ms/step\n"
          ]
        },
        {
          "output_type": "execute_result",
          "data": {
            "text/plain": [
              "<matplotlib.collections.PathCollection at 0x7fa4810ecbd0>"
            ]
          },
          "metadata": {},
          "execution_count": 90
        },
        {
          "output_type": "display_data",
          "data": {
            "text/plain": [
              "<Figure size 432x288 with 1 Axes>"
            ],
            "image/png": "[encoded data removed]"
          },
          "metadata": {
            "needs_background": "light"
          }
        }
      ]
    },
    {
      "cell_type": "code",
      "source": [
        "plot_decision_boundary(X, y_cat, model)\n",
        "plt.scatter(X[Y == 0, 0], X[Y == 0, 1])\n",
        "plt.scatter(X[Y == 1, 0], X[Y == 1, 1])\n",
        "plt.scatter(X[Y == 2, 0], X[Y == 2, 1])\n",
        "plt.scatter(X[Y == 3, 0], X[Y == 3, 1])\n",
        "plt.scatter(X[Y == 4, 0], X[Y == 4, 1])\n",
        "x = 0\n",
        "y = 0\n",
        "point = np.array([[x,y]])\n",
        "prediction = np.argmax(model.predict(point), axis=-1)\n",
        "plt.plot([x], [y], marker = 'o', markersize = 10, color = 'r')\n",
        "print('Prediction is', prediction)"
      ],
      "metadata": {
        "colab": {
          "base_uri": "https://localhost:8080/",
          "height": 317
        },
        "id": "JKjAlwYpPNyL",
        "outputId": "2003918d-c024-4de3-9e3b-7e7a127d1476"
      },
      "execution_count": 91,
      "outputs": [
        {
          "output_type": "stream",
          "name": "stdout",
          "text": [
            "79/79 [==============================] - 0s 2ms/step\n",
            "1/1 [==============================] - 0s 40ms/step\n",
            "Prediction is [4]\n"
          ]
        },
        {
          "output_type": "display_data",
          "data": {
            "text/plain": [
              "<Figure size 432x288 with 1 Axes>"
            ],
            "image/png": "[encoded data removed]"
          },
          "metadata": {
            "needs_background": "light"
          }
        }
      ]
    }
  ]
}