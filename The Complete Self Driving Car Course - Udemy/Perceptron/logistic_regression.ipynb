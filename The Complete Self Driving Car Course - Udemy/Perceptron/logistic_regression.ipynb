{
  "nbformat": 4,
  "nbformat_minor": 0,
  "metadata": {
    "colab": {
      "provenance": [],
      "toc_visible": true,
      "authorship_tag": "ABX9TyMMbzSAW/O+jO0vf/PJaqvV",
      "include_colab_link": true
    },
    "kernelspec": {
      "name": "python3",
      "display_name": "Python 3"
    },
    "language_info": {
      "name": "python"
    }
  },
  "cells": [
    {
      "cell_type": "markdown",
      "metadata": {
        "id": "view-in-github",
        "colab_type": "text"
      },
      "source": [
        "<a href=\"https://colab.research.google.com/github/CornelioEmbedded/Self-Driving-Car/blob/main/logistic_regression.ipynb\" target=\"_parent\"><img src=\"https://colab.research.google.com/assets/colab-badge.svg\" alt=\"Open In Colab\"/></a>"
      ]
    },
    {
      "cell_type": "code",
      "execution_count": null,
      "metadata": {
        "id": "sadtupQZm-GK"
      },
      "outputs": [],
      "source": [
        "import numpy as np\n",
        "import matplotlib.pyplot as plt\n"
      ]
    },
    {
      "cell_type": "code",
      "source": [
        "def draw(x1,x2):\n",
        "  ln = plt.plot(x1,x2)\n",
        "\n",
        "def sigmoid(score):\n",
        "  return 1/(1 + np.exp(-score))\n",
        "\n",
        "def calculate_error(line_parameters, points, y):\n",
        "  n = points.shape[0]\n",
        "  p = sigmoid(points * line_parameters)\n",
        "  cross_entropy = -(1/n)*(np.log(p).T*y + np.log(1-p).T*(1-y))\n",
        "  return cross_entropy\n",
        "\n",
        "def gradient_descent(line_parameters, points, y, alpha):\n",
        "  for i in range (2000):\n",
        "    n = points.shape[0]\n",
        "    p = sigmoid(points * line_parameters)\n",
        "    gradient = (points.T * (p - y)) * (alpha/n)\n",
        "    line_parameters = line_parameters - gradient\n",
        "\n",
        "    w1 = line_parameters.item(0)\n",
        "    w2 = line_parameters.item(1)\n",
        "    b = line_parameters.item(2)\n",
        "\n",
        "    x1 = np.array([bottom_region[:,0].min(),top_region[:, 0].max()])\n",
        "    x2 = -b / w2 + x1 * (-w1/w2)\n",
        "  draw(x1,x2)\n",
        "\n"
      ],
      "metadata": {
        "id": "YTqmlWRu_dDQ"
      },
      "execution_count": null,
      "outputs": []
    },
    {
      "cell_type": "code",
      "source": [
        "n_pts = 100\n",
        "\n",
        "\n",
        "np.random.seed(0)\n",
        "bias = np.ones(n_pts)\n",
        "random_x1_values = np.random.normal(10, 2, n_pts)\n",
        "random_x2_values = np.random.normal(10, 2, n_pts)\n",
        "\n",
        "random_y1_values = np.random.normal(5, 2, n_pts)\n",
        "random_y2_values = np.random.normal(5, 2, n_pts)\n",
        "\n",
        "\n",
        "top_region = np.array([random_x1_values, random_x2_values, bias]).T\n",
        "bottom_region = np.array([random_y1_values, random_y2_values, bias]).T\n",
        "all_points = np.vstack((top_region, bottom_region))\n",
        "\n",
        "line_parameters = np.matrix([np.zeros(3)]).T\n",
        "# x1 = np.array([bottom_region[:,0].min(),top_region[:, 0].max()])\n",
        "# x2 = -b / w2 + x1 * (-w1/w2)\n",
        "\n",
        "y = np.array([np.zeros(n_pts), np.ones(n_pts)]).reshape(n_pts*2,1)"
      ],
      "metadata": {
        "id": "vo86bxPinVCn"
      },
      "execution_count": null,
      "outputs": []
    },
    {
      "cell_type": "code",
      "source": [
        "_, ax = plt.subplots(figsize=(4,4))\n",
        "ax.scatter(top_region[:, 0], top_region[:, 1], color = 'r')\n",
        "ax.scatter(bottom_region[:, 0], bottom_region[:, 1], color = 'b')\n",
        "gradient_descent(line_parameters, all_points, y, 0.06)\n",
        "plt.show()"
      ],
      "metadata": {
        "colab": {
          "base_uri": "https://localhost:8080/",
          "height": 265
        },
        "id": "rSjK44Zv6aH7",
        "outputId": "9eafb1d4-3b90-41dc-e1be-ecb2a5a8ee5e"
      },
      "execution_count": null,
      "outputs": [
        {
          "output_type": "display_data",
          "data": {
            "text/plain": [
              "<Figure size 288x288 with 1 Axes>"
            ],
            "image/png": "[encoded data removed]"
          },
          "metadata": {
            "needs_background": "light"
          }
        }
      ]
    }
  ]
}