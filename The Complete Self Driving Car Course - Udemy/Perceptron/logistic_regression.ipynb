{
  "nbformat": 4,
  "nbformat_minor": 0,
  "metadata": {
    "colab": {
      "provenance": []
    },
    "kernelspec": {
      "name": "python3",
      "display_name": "Python 3"
    },
    "language_info": {
      "name": "python"
    }
  },
  "cells": [
    {
      "cell_type": "code",
      "execution_count": 20,
      "metadata": {
        "id": "sadtupQZm-GK"
      },
      "outputs": [],
      "source": [
        "import numpy as np\n",
        "import matplotlib.pyplot as plt"
      ]
    },
    {
      "cell_type": "code",
      "source": [
        "def draw(x1,x2):\n",
        "  ln = plt.plot(x1,x2)"
      ],
      "metadata": {
        "id": "YTqmlWRu_dDQ"
      },
      "execution_count": 21,
      "outputs": []
    },
    {
      "cell_type": "code",
      "source": [
        "n_pts = 100\n",
        "w1 = -0.2\n",
        "w2 = -0.35\n",
        "b = 3.5\n",
        "\n",
        "np.random.seed(0)\n",
        "bias = np.ones(n_pts)\n",
        "random_x1_values = np.random.normal(10, 2, n_pts)\n",
        "random_x2_values = np.random.normal(10, 2, n_pts)\n",
        "\n",
        "random_y1_values = np.random.normal(5, 2, n_pts)\n",
        "random_y2_values = np.random.normal(5, 2, n_pts)\n",
        "\n",
        "\n",
        "top_region = np.array([random_x1_values, random_x2_values, bias]).T\n",
        "bottom_region = np.array([random_y1_values, random_y2_values, bias]).T\n",
        "all_points = np.vstack((top_region, bottom_region))\n",
        "\n",
        "line_parameters = np.matrix([w1, w2, b])\n",
        "x1 = np.array([bottom_region[:,0].min(),top_region[:, 0].max()])\n",
        "x2 = -b / w2 + x1 * (-w1/w2)\n",
        "print(x1,x2)"
      ],
      "metadata": {
        "colab": {
          "base_uri": "https://localhost:8080/"
        },
        "id": "vo86bxPinVCn",
        "outputId": "7ad66f1e-6c98-4d83-f610-ce6a2c964241"
      },
      "execution_count": 28,
      "outputs": [
        {
          "output_type": "stream",
          "name": "stdout",
          "text": [
            "[-0.54518551 14.53950925] [10.31153458  1.691709  ]\n"
          ]
        }
      ]
    },
    {
      "cell_type": "code",
      "source": [
        "_, ax = plt.subplots(figsize=(4,4))\n",
        "ax.scatter(top_region[:, 0], top_region[:, 1], color = 'r')\n",
        "ax.scatter(bottom_region[:, 0], bottom_region[:, 1], color = 'b')\n",
        "draw(x1,x2)\n",
        "plt.show()"
      ],
      "metadata": {
        "colab": {
          "base_uri": "https://localhost:8080/",
          "height": 265
        },
        "id": "rSjK44Zv6aH7",
        "outputId": "66ef3de5-3599-4c96-df5d-83b7ed43b041"
      },
      "execution_count": 29,
      "outputs": [
        {
          "output_type": "display_data",
          "data": {
            "text/plain": [
              "<Figure size 288x288 with 1 Axes>"
            ],
            "image/png": "[encoded data removed]"
          },
          "metadata": {
            "needs_background": "light"
          }
        }
      ]
    }
  ]
}